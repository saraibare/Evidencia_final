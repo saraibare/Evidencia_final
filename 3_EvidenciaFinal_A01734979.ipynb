{
  "nbformat": 4,
  "nbformat_minor": 0,
  "metadata": {
    "colab": {
      "provenance": [],
      "authorship_tag": "ABX9TyOZTY7+RqIPTqxQTMB/8vrG",
      "include_colab_link": true
    },
    "kernelspec": {
      "name": "python3",
      "display_name": "Python 3"
    },
    "language_info": {
      "name": "python"
    }
  },
  "cells": [
    {
      "cell_type": "markdown",
      "metadata": {
        "id": "view-in-github",
        "colab_type": "text"
      },
      "source": [
        "<a href=\"https://colab.research.google.com/github/saraibare/Evidencia_final/blob/main/3_EvidenciaFinal_A01734979.ipynb\" target=\"_parent\"><img src=\"https://colab.research.google.com/assets/colab-badge.svg\" alt=\"Open In Colab\"/></a>"
      ]
    },
    {
      "cell_type": "code",
      "execution_count": null,
      "metadata": {
        "id": "wWrxyLI3Gofi"
      },
      "outputs": [],
      "source": [
        "import streamlit as st\n",
        "import pandas as pd \n",
        "import numpy as np \n",
        "import plotly as px \n",
        "import plotly.figure_factory as ff\n",
        "from bokeh.plotting import figure \n",
        "import matplotlib.pyplot as plt \n",
        "\n",
        "st.title('Police Incident Reports from 2018 to 2020 in San Francisco')\n",
        "df = pd.read_csv(\"https://drive.google.com/file/d/1ioUp8979nNLh9h-CYVyJcRgAhxBhCLIm/view?usp=sharing\")\n",
        "st.markdown('The data shown below belongs to incident reports in the city of San Francisco, from the year 2018 to 2020, with details from each case such as date, day of the week, police district, neighborhood in which it happened, type of incident in category and subcategory, exact location and resolution.')\n",
        "\n",
        "mapa = pd.DataFrame()\n",
        "mapa['Date'] = df['Incident Date']\n",
        "mapa['Day'] = df['Incident Day of Week']\n",
        "mapa['Police District'] = df['Police District']\n",
        "mapa['Neighborhood'] = df['Analysis Neighborhood']\n",
        "mapa['Incident Category'] = df['Incident Category']\n",
        "mapa['Incident Subcategory'] = df['Incident Subcategory']\n",
        "mapa['Resolution'] = df['Resolution']\n",
        "\n",
        "mapa['lat'] = df['Latitude']\n",
        "mapa['lon'] = df['Longitude']\n",
        "mapa=mapa.dropna()\n",
        "st.map(mapa.astype(int))\n",
        "\n"
      ]
    }
  ]
}